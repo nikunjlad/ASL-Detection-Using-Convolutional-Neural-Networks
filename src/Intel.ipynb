{
 "cells": [
  {
   "cell_type": "code",
   "execution_count": 1,
   "metadata": {},
   "outputs": [],
   "source": [
    "def base10toN(num):\n",
    "    base=6\n",
    "    converted_string, modstring = \"\", \"\"\n",
    "    currentnum = num\n",
    "    if not num:\n",
    "        return '00'\n",
    "    while currentnum:\n",
    "        mod = currentnum % base\n",
    "        currentnum = currentnum // base\n",
    "        converted_string = chr(48 + mod + 7*(mod > 10)) + converted_string\n",
    "    return converted_string"
   ]
  },
  {
   "cell_type": "code",
   "execution_count": 2,
   "metadata": {},
   "outputs": [],
   "source": [
    "months = {\"January\": 0, \"February\": 1, \"March\": 2, \"April\": 3, \"May\": 4, \"June\": 5,\n",
    "         \"July\": 6, \"August\": 7, \"September\": 8, \"October\": 9, \"November\": 10, \"December\": 11}"
   ]
  },
  {
   "cell_type": "code",
   "execution_count": 8,
   "metadata": {},
   "outputs": [],
   "source": [
    "def process(inp):\n",
    "    \n",
    "    mth, dat = inp.split(\" \")\n",
    "    mth_ind = months[mth]\n",
    "    out = list()\n",
    "    \n",
    "    if mth_ind % 6 == 0:\n",
    "        out.append(mth_ind)\n",
    "        out.append(-1)\n",
    "    else:\n",
    "        out.append(-1)\n",
    "        out.append(mth_ind % 6)\n",
    "    \n",
    "    dat_ind = base10toN(int(dat))\n",
    "    \n",
    "    if int(dat_ind) % 6 == 0:\n",
    "        out.append(0)\n",
    "        out.append(int(dat_ind))\n",
    "    else:\n",
    "        v1, v2 = list(dat_ind)\n",
    "        out = out + [int(v1), int(v2)]\n",
    "    \n",
    "    return out"
   ]
  },
  {
   "cell_type": "code",
   "execution_count": 22,
   "metadata": {},
   "outputs": [
    {
     "data": {
      "text/plain": [
       "[-1, 2, 1, 1]"
      ]
     },
     "execution_count": 22,
     "metadata": {},
     "output_type": "execute_result"
    }
   ],
   "source": [
    "process(\"September 7\")"
   ]
  },
  {
   "cell_type": "code",
   "execution_count": null,
   "metadata": {},
   "outputs": [],
   "source": []
  }
 ],
 "metadata": {
  "kernelspec": {
   "display_name": "Python 3",
   "language": "python",
   "name": "python3"
  },
  "language_info": {
   "codemirror_mode": {
    "name": "ipython",
    "version": 3
   },
   "file_extension": ".py",
   "mimetype": "text/x-python",
   "name": "python",
   "nbconvert_exporter": "python",
   "pygments_lexer": "ipython3",
   "version": "3.6.5"
  }
 },
 "nbformat": 4,
 "nbformat_minor": 4
}
